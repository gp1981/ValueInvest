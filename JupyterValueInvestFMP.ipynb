{
 "cells": [
  {
   "cell_type": "code",
   "execution_count": 1,
   "metadata": {},
   "outputs": [],
   "source": [
    "import os\n",
    "from dotenv import load_dotenv\n",
    "from tqdm import tqdm\n",
    "from F_API import *\n",
    "from F_SP500 import *\n",
    "\n",
    "# Load API key from .env file in the root directory\n",
    "load_dotenv()\n",
    "API_KEY = os.environ.get('API_KEY')"
   ]
  },
  {
   "cell_type": "code",
   "execution_count": 2,
   "metadata": {},
   "outputs": [],
   "source": [
    "# Download list of stocks\n",
    "stock_list = download_stock_list(API_KEY)\n",
    "\n"
   ]
  },
  {
   "cell_type": "code",
   "execution_count": 3,
   "metadata": {},
   "outputs": [
    {
     "data": {
      "text/html": [
       "<div>\n",
       "<style scoped>\n",
       "    .dataframe tbody tr th:only-of-type {\n",
       "        vertical-align: middle;\n",
       "    }\n",
       "\n",
       "    .dataframe tbody tr th {\n",
       "        vertical-align: top;\n",
       "    }\n",
       "\n",
       "    .dataframe thead th {\n",
       "        text-align: right;\n",
       "    }\n",
       "</style>\n",
       "<table border=\"1\" class=\"dataframe\">\n",
       "  <thead>\n",
       "    <tr style=\"text-align: right;\">\n",
       "      <th></th>\n",
       "      <th>symbol</th>\n",
       "      <th>name</th>\n",
       "      <th>price</th>\n",
       "      <th>exchange</th>\n",
       "      <th>exchangeShortName</th>\n",
       "      <th>type</th>\n",
       "    </tr>\n",
       "  </thead>\n",
       "  <tbody>\n",
       "    <tr>\n",
       "      <th>0</th>\n",
       "      <td>DXQLX</td>\n",
       "      <td>Direxion Monthly NASDAQ-100 Bull 2X Fund Inves...</td>\n",
       "      <td>56.7119</td>\n",
       "      <td>Nasdaq</td>\n",
       "      <td>NASDAQ</td>\n",
       "      <td>trust</td>\n",
       "    </tr>\n",
       "    <tr>\n",
       "      <th>1</th>\n",
       "      <td>KIFCX</td>\n",
       "      <td>Salient Select Income Fund Class C</td>\n",
       "      <td>17.1600</td>\n",
       "      <td>Nasdaq</td>\n",
       "      <td>NASDAQ</td>\n",
       "      <td>trust</td>\n",
       "    </tr>\n",
       "    <tr>\n",
       "      <th>2</th>\n",
       "      <td>LIONX</td>\n",
       "      <td>Issachar Fund Class N</td>\n",
       "      <td>9.5200</td>\n",
       "      <td>Nasdaq</td>\n",
       "      <td>NASDAQ</td>\n",
       "      <td>trust</td>\n",
       "    </tr>\n",
       "    <tr>\n",
       "      <th>3</th>\n",
       "      <td>MPFDX</td>\n",
       "      <td>Morgan Stanley Insti Fd Tr Investment Grade Fi...</td>\n",
       "      <td>10.2200</td>\n",
       "      <td>Nasdaq</td>\n",
       "      <td>NASDAQ</td>\n",
       "      <td>trust</td>\n",
       "    </tr>\n",
       "    <tr>\n",
       "      <th>4</th>\n",
       "      <td>LUBAX</td>\n",
       "      <td>Lord Abbett Ultra Short Bond Fund - Class A</td>\n",
       "      <td>9.8600</td>\n",
       "      <td>Nasdaq</td>\n",
       "      <td>NASDAQ</td>\n",
       "      <td>trust</td>\n",
       "    </tr>\n",
       "  </tbody>\n",
       "</table>\n",
       "</div>"
      ],
      "text/plain": [
       "  symbol                                               name    price exchange  \\\n",
       "0  DXQLX  Direxion Monthly NASDAQ-100 Bull 2X Fund Inves...  56.7119   Nasdaq   \n",
       "1  KIFCX                 Salient Select Income Fund Class C  17.1600   Nasdaq   \n",
       "2  LIONX                              Issachar Fund Class N   9.5200   Nasdaq   \n",
       "3  MPFDX  Morgan Stanley Insti Fd Tr Investment Grade Fi...  10.2200   Nasdaq   \n",
       "4  LUBAX        Lord Abbett Ultra Short Bond Fund - Class A   9.8600   Nasdaq   \n",
       "\n",
       "  exchangeShortName   type  \n",
       "0            NASDAQ  trust  \n",
       "1            NASDAQ  trust  \n",
       "2            NASDAQ  trust  \n",
       "3            NASDAQ  trust  \n",
       "4            NASDAQ  trust  "
      ]
     },
     "metadata": {},
     "output_type": "display_data"
    }
   ],
   "source": [
    "from IPython.display import display\n",
    "display(stock_list.head())"
   ]
  }
 ],
 "metadata": {
  "kernelspec": {
   "display_name": ".venv",
   "language": "python",
   "name": "python3"
  },
  "language_info": {
   "codemirror_mode": {
    "name": "ipython",
    "version": 3
   },
   "file_extension": ".py",
   "mimetype": "text/x-python",
   "name": "python",
   "nbconvert_exporter": "python",
   "pygments_lexer": "ipython3",
   "version": "3.11.4"
  },
  "orig_nbformat": 4
 },
 "nbformat": 4,
 "nbformat_minor": 2
}
